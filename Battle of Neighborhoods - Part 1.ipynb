{
 "cells": [
  {
   "cell_type": "markdown",
   "metadata": {
    "collapsed": true
   },
   "source": [
    "# The Battle of the Neighborhoods"
   ]
  },
  {
   "cell_type": "markdown",
   "metadata": {},
   "source": [
    "# Introduction & Business Problem :"
   ]
  },
  {
   "cell_type": "markdown",
   "metadata": {},
   "source": [
    "# Problem Background:"
   ]
  },
  {
   "cell_type": "markdown",
   "metadata": {},
   "source": [
    "The City of New York, is the most populous city in the United States. It is diverse and is the financial capital of USA. It is multicultural. It provides lot of business oppourtunities and business friendly environment. It has attracted many different players into the market. It is a global hub of business and commerce. The city is a major center for banking and finance, retailing, world trade, transportation, tourism, real estate, new media, traditional media, advertising, legal services, accountancy, insurance, theater, fashion, and the arts in the United States.\n",
    "\n",
    "This also means that the market is highly competitive. As it is highly developed city so cost of doing business is also one of the highest. Thus, any new business venture or expansion needs to be analysed carefully. The insights derived from analysis will give good understanding of the business environment which help in strategically targeting the market. This will help in reduction of risk. And the Return on Investment will be reasonable."
   ]
  },
  {
   "cell_type": "markdown",
   "metadata": {},
   "source": [
    "# Problem Description:"
   ]
  },
  {
   "cell_type": "markdown",
   "metadata": {},
   "source": [
    "A restaurant is a business which prepares and serves food and drink to customers in return for money, either paid before the meal, after the meal, or with an open account. The City of New York is famous for its excelllent cuisine. It's food culture includes an array of international cuisines influenced by the city's immigrant history.\n",
    "\n",
    "In this project I want to find the answersof the below stated questions which is based on Indian Cuisines and Indian Restaurants : \n",
    "1. List and Visualize all great Indian Restaurants that are currently operational in New York City\n",
    "2. Which are the best localities with great Indian food\n",
    "3. Which areas have potential Indian restaurant market\n",
    "4. Which areas lack Indian restaurants\n",
    "5. Which is the best place to stay if someone likes Indian food"
   ]
  },
  {
   "cell_type": "markdown",
   "metadata": {},
   "source": [
    "# Target Audience"
   ]
  },
  {
   "cell_type": "markdown",
   "metadata": {},
   "source": [
    "The target audience who will be benifited by this project can be divided into several groups : \n",
    "1. Foody people who wants to taste great Indian cuisine in New York city.\n",
    "2. Any new ABC company who wants to open an Indian restaurant in New York, can get the understanding which area is the best fit for the restaurant.\n",
    "3. Currently operating Indian restaurants in some neighborhood of New York who wants to open a new branch in some other neighborhood."
   ]
  },
  {
   "cell_type": "markdown",
   "metadata": {},
   "source": [
    "# Success Criteria"
   ]
  },
  {
   "cell_type": "markdown",
   "metadata": {},
   "source": [
    "Success criteria for this project is as follows :\n",
    "1. Suggesting best Indian restaurant in New York city to the food loving people craving for Indian cuisines.\n",
    "2. Suggesting the best neighborhood in New York for opening a new restaurant or for opening a branch of an existing restaurant which is operational in some other neighborhood in New York."
   ]
  },
  {
   "cell_type": "markdown",
   "metadata": {},
   "source": [
    "# Data Set :"
   ]
  },
  {
   "cell_type": "markdown",
   "metadata": {},
   "source": [
    "For this project I will be using the following datasets : \n",
    "1. New York City data that contains list Boroughs, Neighbourhoods along with their latitude and longitude. \n",
    "  \n",
    "  A. Data source : https://cocl.us/new_york_dataset \n",
    "  \n",
    "  B. Description: This data set contains the required information. And we will use this data set to explore various neighbourhoods of New York City \n",
    "  \n",
    " \n",
    "2. Indian restaurants in each neighbourhood of New York City. \n",
    "  \n",
    "  A. Data source : Foursquare API \n",
    "  \n",
    "  B. Description: By using this API we will get all the venues in each neighbourhood. We can filter these venues to get only Indian restaurants. \n",
    "  \n",
    " \n",
    "3. GeoSpace data\n",
    "  \n",
    "  A. Data source : https://data.cityofnewyork.us/City-Government/BoroughBoundaries/tqmj-j8zm \n",
    "  \n",
    "  B. Description: By using this geo space data we will get the New York Borough boundaries that will help us visualize choropleth map. "
   ]
  },
  {
   "cell_type": "code",
   "execution_count": null,
   "metadata": {},
   "outputs": [],
   "source": []
  }
 ],
 "metadata": {
  "kernelspec": {
   "display_name": "Python 3.6",
   "language": "python",
   "name": "python3"
  },
  "language_info": {
   "codemirror_mode": {
    "name": "ipython",
    "version": 3
   },
   "file_extension": ".py",
   "mimetype": "text/x-python",
   "name": "python",
   "nbconvert_exporter": "python",
   "pygments_lexer": "ipython3",
   "version": "3.6.9"
  }
 },
 "nbformat": 4,
 "nbformat_minor": 1
}
